{
 "cells": [
  {
   "cell_type": "markdown",
   "id": "9fb9510c",
   "metadata": {},
   "source": [
    "## Business Problem\n",
    "**Uisng the given information build a model that pridict whether the business is going to bankrupt or not** "
   ]
  },
  {
   "cell_type": "markdown",
   "id": "cc3b497c",
   "metadata": {},
   "source": [
    "**Importing Librarys**"
   ]
  },
  {
   "cell_type": "code",
   "execution_count": 1,
   "id": "c43d7830",
   "metadata": {
    "scrolled": true
   },
   "outputs": [],
   "source": [
    "import pandas as pd\n",
    "import numpy as np\n",
    "import seaborn as sns\n",
    "from sklearn.preprocessing import LabelEncoder\n",
    "from matplotlib import pyplot as plt\n",
    "from sklearn.model_selection import train_test_split\n",
    "from sklearn.tree import DecisionTreeClassifier\n",
    "from sklearn.metrics import accuracy_score"
   ]
  },
  {
   "cell_type": "markdown",
   "id": "19c146b6",
   "metadata": {},
   "source": [
    "**Loading The Data From The Device**"
   ]
  },
  {
   "cell_type": "code",
   "execution_count": 2,
   "id": "68ff6c90",
   "metadata": {},
   "outputs": [
    {
     "data": {
      "text/html": [
       "<div>\n",
       "<style scoped>\n",
       "    .dataframe tbody tr th:only-of-type {\n",
       "        vertical-align: middle;\n",
       "    }\n",
       "\n",
       "    .dataframe tbody tr th {\n",
       "        vertical-align: top;\n",
       "    }\n",
       "\n",
       "    .dataframe thead th {\n",
       "        text-align: right;\n",
       "    }\n",
       "</style>\n",
       "<table border=\"1\" class=\"dataframe\">\n",
       "  <thead>\n",
       "    <tr style=\"text-align: right;\">\n",
       "      <th></th>\n",
       "      <th>industrial_risk; management_risk; financial_flexibility; credibility; competitiveness; operating_risk; class</th>\n",
       "    </tr>\n",
       "  </thead>\n",
       "  <tbody>\n",
       "    <tr>\n",
       "      <th>0</th>\n",
       "      <td>0.5;1;0;0;0;0.5;bankruptcy</td>\n",
       "    </tr>\n",
       "    <tr>\n",
       "      <th>1</th>\n",
       "      <td>0;1;0;0;0;1;bankruptcy</td>\n",
       "    </tr>\n",
       "    <tr>\n",
       "      <th>2</th>\n",
       "      <td>1;0;0;0;0;1;bankruptcy</td>\n",
       "    </tr>\n",
       "    <tr>\n",
       "      <th>3</th>\n",
       "      <td>0.5;0;0;0.5;0;1;bankruptcy</td>\n",
       "    </tr>\n",
       "    <tr>\n",
       "      <th>4</th>\n",
       "      <td>1;1;0;0;0;1;bankruptcy</td>\n",
       "    </tr>\n",
       "    <tr>\n",
       "      <th>...</th>\n",
       "      <td>...</td>\n",
       "    </tr>\n",
       "    <tr>\n",
       "      <th>245</th>\n",
       "      <td>0;1;1;1;1;1;non-bankruptcy</td>\n",
       "    </tr>\n",
       "    <tr>\n",
       "      <th>246</th>\n",
       "      <td>1;1;0.5;1;1;0;non-bankruptcy</td>\n",
       "    </tr>\n",
       "    <tr>\n",
       "      <th>247</th>\n",
       "      <td>0;1;1;0.5;0.5;0;non-bankruptcy</td>\n",
       "    </tr>\n",
       "    <tr>\n",
       "      <th>248</th>\n",
       "      <td>1;0;0.5;1;0.5;0;non-bankruptcy</td>\n",
       "    </tr>\n",
       "    <tr>\n",
       "      <th>249</th>\n",
       "      <td>1;0;0.5;0.5;1;1;non-bankruptcy</td>\n",
       "    </tr>\n",
       "  </tbody>\n",
       "</table>\n",
       "<p>250 rows × 1 columns</p>\n",
       "</div>"
      ],
      "text/plain": [
       "    industrial_risk; management_risk; financial_flexibility; credibility; competitiveness; operating_risk; class\n",
       "0                           0.5;1;0;0;0;0.5;bankruptcy                                                          \n",
       "1                               0;1;0;0;0;1;bankruptcy                                                          \n",
       "2                               1;0;0;0;0;1;bankruptcy                                                          \n",
       "3                           0.5;0;0;0.5;0;1;bankruptcy                                                          \n",
       "4                               1;1;0;0;0;1;bankruptcy                                                          \n",
       "..                                                 ...                                                          \n",
       "245                         0;1;1;1;1;1;non-bankruptcy                                                          \n",
       "246                       1;1;0.5;1;1;0;non-bankruptcy                                                          \n",
       "247                     0;1;1;0.5;0.5;0;non-bankruptcy                                                          \n",
       "248                     1;0;0.5;1;0.5;0;non-bankruptcy                                                          \n",
       "249                     1;0;0.5;0.5;1;1;non-bankruptcy                                                          \n",
       "\n",
       "[250 rows x 1 columns]"
      ]
     },
     "execution_count": 2,
     "metadata": {},
     "output_type": "execute_result"
    }
   ],
   "source": [
    "df = pd.read_excel('bankruptcy-prevention.xlsx')\n",
    "df"
   ]
  },
  {
   "cell_type": "markdown",
   "id": "38248c85",
   "metadata": {},
   "source": [
    "**Exporting the data into csv format then again lode it not csv,**\n",
    "**because in the pd.read_excel we don't have delimiter option.**"
   ]
  },
  {
   "cell_type": "code",
   "execution_count": 3,
   "id": "611e5c83",
   "metadata": {},
   "outputs": [
    {
     "data": {
      "text/html": [
       "<div>\n",
       "<style scoped>\n",
       "    .dataframe tbody tr th:only-of-type {\n",
       "        vertical-align: middle;\n",
       "    }\n",
       "\n",
       "    .dataframe tbody tr th {\n",
       "        vertical-align: top;\n",
       "    }\n",
       "\n",
       "    .dataframe thead th {\n",
       "        text-align: right;\n",
       "    }\n",
       "</style>\n",
       "<table border=\"1\" class=\"dataframe\">\n",
       "  <thead>\n",
       "    <tr style=\"text-align: right;\">\n",
       "      <th></th>\n",
       "      <th>,industrial_risk</th>\n",
       "      <th>management_risk</th>\n",
       "      <th>financial_flexibility</th>\n",
       "      <th>credibility</th>\n",
       "      <th>competitiveness</th>\n",
       "      <th>operating_risk</th>\n",
       "      <th>class</th>\n",
       "    </tr>\n",
       "  </thead>\n",
       "  <tbody>\n",
       "    <tr>\n",
       "      <th>0</th>\n",
       "      <td>0,0.5</td>\n",
       "      <td>1.0</td>\n",
       "      <td>0.0</td>\n",
       "      <td>0.0</td>\n",
       "      <td>0.0</td>\n",
       "      <td>0.5</td>\n",
       "      <td>bankruptcy</td>\n",
       "    </tr>\n",
       "    <tr>\n",
       "      <th>1</th>\n",
       "      <td>1,0</td>\n",
       "      <td>1.0</td>\n",
       "      <td>0.0</td>\n",
       "      <td>0.0</td>\n",
       "      <td>0.0</td>\n",
       "      <td>1.0</td>\n",
       "      <td>bankruptcy</td>\n",
       "    </tr>\n",
       "    <tr>\n",
       "      <th>2</th>\n",
       "      <td>2,1</td>\n",
       "      <td>0.0</td>\n",
       "      <td>0.0</td>\n",
       "      <td>0.0</td>\n",
       "      <td>0.0</td>\n",
       "      <td>1.0</td>\n",
       "      <td>bankruptcy</td>\n",
       "    </tr>\n",
       "    <tr>\n",
       "      <th>3</th>\n",
       "      <td>3,0.5</td>\n",
       "      <td>0.0</td>\n",
       "      <td>0.0</td>\n",
       "      <td>0.5</td>\n",
       "      <td>0.0</td>\n",
       "      <td>1.0</td>\n",
       "      <td>bankruptcy</td>\n",
       "    </tr>\n",
       "    <tr>\n",
       "      <th>4</th>\n",
       "      <td>4,1</td>\n",
       "      <td>1.0</td>\n",
       "      <td>0.0</td>\n",
       "      <td>0.0</td>\n",
       "      <td>0.0</td>\n",
       "      <td>1.0</td>\n",
       "      <td>bankruptcy</td>\n",
       "    </tr>\n",
       "    <tr>\n",
       "      <th>...</th>\n",
       "      <td>...</td>\n",
       "      <td>...</td>\n",
       "      <td>...</td>\n",
       "      <td>...</td>\n",
       "      <td>...</td>\n",
       "      <td>...</td>\n",
       "      <td>...</td>\n",
       "    </tr>\n",
       "    <tr>\n",
       "      <th>245</th>\n",
       "      <td>245,0</td>\n",
       "      <td>1.0</td>\n",
       "      <td>1.0</td>\n",
       "      <td>1.0</td>\n",
       "      <td>1.0</td>\n",
       "      <td>1.0</td>\n",
       "      <td>non-bankruptcy</td>\n",
       "    </tr>\n",
       "    <tr>\n",
       "      <th>246</th>\n",
       "      <td>246,1</td>\n",
       "      <td>1.0</td>\n",
       "      <td>0.5</td>\n",
       "      <td>1.0</td>\n",
       "      <td>1.0</td>\n",
       "      <td>0.0</td>\n",
       "      <td>non-bankruptcy</td>\n",
       "    </tr>\n",
       "    <tr>\n",
       "      <th>247</th>\n",
       "      <td>247,0</td>\n",
       "      <td>1.0</td>\n",
       "      <td>1.0</td>\n",
       "      <td>0.5</td>\n",
       "      <td>0.5</td>\n",
       "      <td>0.0</td>\n",
       "      <td>non-bankruptcy</td>\n",
       "    </tr>\n",
       "    <tr>\n",
       "      <th>248</th>\n",
       "      <td>248,1</td>\n",
       "      <td>0.0</td>\n",
       "      <td>0.5</td>\n",
       "      <td>1.0</td>\n",
       "      <td>0.5</td>\n",
       "      <td>0.0</td>\n",
       "      <td>non-bankruptcy</td>\n",
       "    </tr>\n",
       "    <tr>\n",
       "      <th>249</th>\n",
       "      <td>249,1</td>\n",
       "      <td>0.0</td>\n",
       "      <td>0.5</td>\n",
       "      <td>0.5</td>\n",
       "      <td>1.0</td>\n",
       "      <td>1.0</td>\n",
       "      <td>non-bankruptcy</td>\n",
       "    </tr>\n",
       "  </tbody>\n",
       "</table>\n",
       "<p>250 rows × 7 columns</p>\n",
       "</div>"
      ],
      "text/plain": [
       "    ,industrial_risk   management_risk   financial_flexibility   credibility  \\\n",
       "0              0,0.5               1.0                     0.0           0.0   \n",
       "1                1,0               1.0                     0.0           0.0   \n",
       "2                2,1               0.0                     0.0           0.0   \n",
       "3              3,0.5               0.0                     0.0           0.5   \n",
       "4                4,1               1.0                     0.0           0.0   \n",
       "..               ...               ...                     ...           ...   \n",
       "245            245,0               1.0                     1.0           1.0   \n",
       "246            246,1               1.0                     0.5           1.0   \n",
       "247            247,0               1.0                     1.0           0.5   \n",
       "248            248,1               0.0                     0.5           1.0   \n",
       "249            249,1               0.0                     0.5           0.5   \n",
       "\n",
       "      competitiveness   operating_risk           class  \n",
       "0                 0.0              0.5      bankruptcy  \n",
       "1                 0.0              1.0      bankruptcy  \n",
       "2                 0.0              1.0      bankruptcy  \n",
       "3                 0.0              1.0      bankruptcy  \n",
       "4                 0.0              1.0      bankruptcy  \n",
       "..                ...              ...             ...  \n",
       "245               1.0              1.0  non-bankruptcy  \n",
       "246               1.0              0.0  non-bankruptcy  \n",
       "247               0.5              0.0  non-bankruptcy  \n",
       "248               0.5              0.0  non-bankruptcy  \n",
       "249               1.0              1.0  non-bankruptcy  \n",
       "\n",
       "[250 rows x 7 columns]"
      ]
     },
     "execution_count": 3,
     "metadata": {},
     "output_type": "execute_result"
    }
   ],
   "source": [
    "df.to_csv('bankruptcy-prevention.csv')\n",
    "df1 = pd.read_csv('bankruptcy-prevention.csv',delimiter=';')\n",
    "df1"
   ]
  },
  {
   "cell_type": "markdown",
   "id": "f10b2524",
   "metadata": {},
   "source": [
    "**In industrial_risk Col the index value and the col value both are in same col so we have to split them.**"
   ]
  },
  {
   "cell_type": "code",
   "execution_count": 4,
   "id": "8ac6a2a2",
   "metadata": {},
   "outputs": [
    {
     "data": {
      "text/plain": [
       "0      0,0.5\n",
       "1        1,0\n",
       "2        2,1\n",
       "3      3,0.5\n",
       "4        4,1\n",
       "       ...  \n",
       "245    245,0\n",
       "246    246,1\n",
       "247    247,0\n",
       "248    248,1\n",
       "249    249,1\n",
       "Name: ,industrial_risk, Length: 250, dtype: object"
      ]
     },
     "execution_count": 4,
     "metadata": {},
     "output_type": "execute_result"
    }
   ],
   "source": [
    "df1[',industrial_risk']"
   ]
  },
  {
   "cell_type": "markdown",
   "id": "3edbed4f",
   "metadata": {},
   "source": [
    "**Creating the two col index & value then split it at , using industrial_risk col**"
   ]
  },
  {
   "cell_type": "code",
   "execution_count": 5,
   "id": "f0474fab",
   "metadata": {},
   "outputs": [
    {
     "data": {
      "text/html": [
       "<div>\n",
       "<style scoped>\n",
       "    .dataframe tbody tr th:only-of-type {\n",
       "        vertical-align: middle;\n",
       "    }\n",
       "\n",
       "    .dataframe tbody tr th {\n",
       "        vertical-align: top;\n",
       "    }\n",
       "\n",
       "    .dataframe thead th {\n",
       "        text-align: right;\n",
       "    }\n",
       "</style>\n",
       "<table border=\"1\" class=\"dataframe\">\n",
       "  <thead>\n",
       "    <tr style=\"text-align: right;\">\n",
       "      <th></th>\n",
       "      <th>,industrial_risk</th>\n",
       "      <th>management_risk</th>\n",
       "      <th>financial_flexibility</th>\n",
       "      <th>credibility</th>\n",
       "      <th>competitiveness</th>\n",
       "      <th>operating_risk</th>\n",
       "      <th>class</th>\n",
       "      <th>index</th>\n",
       "      <th>value</th>\n",
       "    </tr>\n",
       "  </thead>\n",
       "  <tbody>\n",
       "    <tr>\n",
       "      <th>0</th>\n",
       "      <td>0,0.5</td>\n",
       "      <td>1.0</td>\n",
       "      <td>0.0</td>\n",
       "      <td>0.0</td>\n",
       "      <td>0.0</td>\n",
       "      <td>0.5</td>\n",
       "      <td>bankruptcy</td>\n",
       "      <td>0</td>\n",
       "      <td>0.5</td>\n",
       "    </tr>\n",
       "    <tr>\n",
       "      <th>1</th>\n",
       "      <td>1,0</td>\n",
       "      <td>1.0</td>\n",
       "      <td>0.0</td>\n",
       "      <td>0.0</td>\n",
       "      <td>0.0</td>\n",
       "      <td>1.0</td>\n",
       "      <td>bankruptcy</td>\n",
       "      <td>1</td>\n",
       "      <td>0</td>\n",
       "    </tr>\n",
       "    <tr>\n",
       "      <th>2</th>\n",
       "      <td>2,1</td>\n",
       "      <td>0.0</td>\n",
       "      <td>0.0</td>\n",
       "      <td>0.0</td>\n",
       "      <td>0.0</td>\n",
       "      <td>1.0</td>\n",
       "      <td>bankruptcy</td>\n",
       "      <td>2</td>\n",
       "      <td>1</td>\n",
       "    </tr>\n",
       "    <tr>\n",
       "      <th>3</th>\n",
       "      <td>3,0.5</td>\n",
       "      <td>0.0</td>\n",
       "      <td>0.0</td>\n",
       "      <td>0.5</td>\n",
       "      <td>0.0</td>\n",
       "      <td>1.0</td>\n",
       "      <td>bankruptcy</td>\n",
       "      <td>3</td>\n",
       "      <td>0.5</td>\n",
       "    </tr>\n",
       "    <tr>\n",
       "      <th>4</th>\n",
       "      <td>4,1</td>\n",
       "      <td>1.0</td>\n",
       "      <td>0.0</td>\n",
       "      <td>0.0</td>\n",
       "      <td>0.0</td>\n",
       "      <td>1.0</td>\n",
       "      <td>bankruptcy</td>\n",
       "      <td>4</td>\n",
       "      <td>1</td>\n",
       "    </tr>\n",
       "    <tr>\n",
       "      <th>...</th>\n",
       "      <td>...</td>\n",
       "      <td>...</td>\n",
       "      <td>...</td>\n",
       "      <td>...</td>\n",
       "      <td>...</td>\n",
       "      <td>...</td>\n",
       "      <td>...</td>\n",
       "      <td>...</td>\n",
       "      <td>...</td>\n",
       "    </tr>\n",
       "    <tr>\n",
       "      <th>245</th>\n",
       "      <td>245,0</td>\n",
       "      <td>1.0</td>\n",
       "      <td>1.0</td>\n",
       "      <td>1.0</td>\n",
       "      <td>1.0</td>\n",
       "      <td>1.0</td>\n",
       "      <td>non-bankruptcy</td>\n",
       "      <td>245</td>\n",
       "      <td>0</td>\n",
       "    </tr>\n",
       "    <tr>\n",
       "      <th>246</th>\n",
       "      <td>246,1</td>\n",
       "      <td>1.0</td>\n",
       "      <td>0.5</td>\n",
       "      <td>1.0</td>\n",
       "      <td>1.0</td>\n",
       "      <td>0.0</td>\n",
       "      <td>non-bankruptcy</td>\n",
       "      <td>246</td>\n",
       "      <td>1</td>\n",
       "    </tr>\n",
       "    <tr>\n",
       "      <th>247</th>\n",
       "      <td>247,0</td>\n",
       "      <td>1.0</td>\n",
       "      <td>1.0</td>\n",
       "      <td>0.5</td>\n",
       "      <td>0.5</td>\n",
       "      <td>0.0</td>\n",
       "      <td>non-bankruptcy</td>\n",
       "      <td>247</td>\n",
       "      <td>0</td>\n",
       "    </tr>\n",
       "    <tr>\n",
       "      <th>248</th>\n",
       "      <td>248,1</td>\n",
       "      <td>0.0</td>\n",
       "      <td>0.5</td>\n",
       "      <td>1.0</td>\n",
       "      <td>0.5</td>\n",
       "      <td>0.0</td>\n",
       "      <td>non-bankruptcy</td>\n",
       "      <td>248</td>\n",
       "      <td>1</td>\n",
       "    </tr>\n",
       "    <tr>\n",
       "      <th>249</th>\n",
       "      <td>249,1</td>\n",
       "      <td>0.0</td>\n",
       "      <td>0.5</td>\n",
       "      <td>0.5</td>\n",
       "      <td>1.0</td>\n",
       "      <td>1.0</td>\n",
       "      <td>non-bankruptcy</td>\n",
       "      <td>249</td>\n",
       "      <td>1</td>\n",
       "    </tr>\n",
       "  </tbody>\n",
       "</table>\n",
       "<p>250 rows × 9 columns</p>\n",
       "</div>"
      ],
      "text/plain": [
       "    ,industrial_risk   management_risk   financial_flexibility   credibility  \\\n",
       "0              0,0.5               1.0                     0.0           0.0   \n",
       "1                1,0               1.0                     0.0           0.0   \n",
       "2                2,1               0.0                     0.0           0.0   \n",
       "3              3,0.5               0.0                     0.0           0.5   \n",
       "4                4,1               1.0                     0.0           0.0   \n",
       "..               ...               ...                     ...           ...   \n",
       "245            245,0               1.0                     1.0           1.0   \n",
       "246            246,1               1.0                     0.5           1.0   \n",
       "247            247,0               1.0                     1.0           0.5   \n",
       "248            248,1               0.0                     0.5           1.0   \n",
       "249            249,1               0.0                     0.5           0.5   \n",
       "\n",
       "      competitiveness   operating_risk           class index value  \n",
       "0                 0.0              0.5      bankruptcy     0   0.5  \n",
       "1                 0.0              1.0      bankruptcy     1     0  \n",
       "2                 0.0              1.0      bankruptcy     2     1  \n",
       "3                 0.0              1.0      bankruptcy     3   0.5  \n",
       "4                 0.0              1.0      bankruptcy     4     1  \n",
       "..                ...              ...             ...   ...   ...  \n",
       "245               1.0              1.0  non-bankruptcy   245     0  \n",
       "246               1.0              0.0  non-bankruptcy   246     1  \n",
       "247               0.5              0.0  non-bankruptcy   247     0  \n",
       "248               0.5              0.0  non-bankruptcy   248     1  \n",
       "249               1.0              1.0  non-bankruptcy   249     1  \n",
       "\n",
       "[250 rows x 9 columns]"
      ]
     },
     "execution_count": 5,
     "metadata": {},
     "output_type": "execute_result"
    }
   ],
   "source": [
    "df1[['index', 'value']] = df1[',industrial_risk'].str.split(',', expand=True)\n",
    "df1"
   ]
  },
  {
   "cell_type": "markdown",
   "id": "e0916979",
   "metadata": {},
   "source": [
    "**Droping the extra industrial_risk col and index col**"
   ]
  },
  {
   "cell_type": "code",
   "execution_count": 6,
   "id": "79e1ed61",
   "metadata": {},
   "outputs": [],
   "source": [
    "df2 = df1.drop(df1[[',industrial_risk','index']],axis = 1)"
   ]
  },
  {
   "cell_type": "markdown",
   "id": "7861886a",
   "metadata": {},
   "source": [
    "**Renaming the col ,industrial_risk to industrial_risk**"
   ]
  },
  {
   "cell_type": "code",
   "execution_count": 7,
   "id": "2c3115ff",
   "metadata": {},
   "outputs": [
    {
     "data": {
      "text/html": [
       "<div>\n",
       "<style scoped>\n",
       "    .dataframe tbody tr th:only-of-type {\n",
       "        vertical-align: middle;\n",
       "    }\n",
       "\n",
       "    .dataframe tbody tr th {\n",
       "        vertical-align: top;\n",
       "    }\n",
       "\n",
       "    .dataframe thead th {\n",
       "        text-align: right;\n",
       "    }\n",
       "</style>\n",
       "<table border=\"1\" class=\"dataframe\">\n",
       "  <thead>\n",
       "    <tr style=\"text-align: right;\">\n",
       "      <th></th>\n",
       "      <th>management_risk</th>\n",
       "      <th>financial_flexibility</th>\n",
       "      <th>credibility</th>\n",
       "      <th>competitiveness</th>\n",
       "      <th>operating_risk</th>\n",
       "      <th>class</th>\n",
       "      <th>industrial_risk</th>\n",
       "    </tr>\n",
       "  </thead>\n",
       "  <tbody>\n",
       "    <tr>\n",
       "      <th>0</th>\n",
       "      <td>1.0</td>\n",
       "      <td>0.0</td>\n",
       "      <td>0.0</td>\n",
       "      <td>0.0</td>\n",
       "      <td>0.5</td>\n",
       "      <td>bankruptcy</td>\n",
       "      <td>0.5</td>\n",
       "    </tr>\n",
       "    <tr>\n",
       "      <th>1</th>\n",
       "      <td>1.0</td>\n",
       "      <td>0.0</td>\n",
       "      <td>0.0</td>\n",
       "      <td>0.0</td>\n",
       "      <td>1.0</td>\n",
       "      <td>bankruptcy</td>\n",
       "      <td>0</td>\n",
       "    </tr>\n",
       "    <tr>\n",
       "      <th>2</th>\n",
       "      <td>0.0</td>\n",
       "      <td>0.0</td>\n",
       "      <td>0.0</td>\n",
       "      <td>0.0</td>\n",
       "      <td>1.0</td>\n",
       "      <td>bankruptcy</td>\n",
       "      <td>1</td>\n",
       "    </tr>\n",
       "    <tr>\n",
       "      <th>3</th>\n",
       "      <td>0.0</td>\n",
       "      <td>0.0</td>\n",
       "      <td>0.5</td>\n",
       "      <td>0.0</td>\n",
       "      <td>1.0</td>\n",
       "      <td>bankruptcy</td>\n",
       "      <td>0.5</td>\n",
       "    </tr>\n",
       "    <tr>\n",
       "      <th>4</th>\n",
       "      <td>1.0</td>\n",
       "      <td>0.0</td>\n",
       "      <td>0.0</td>\n",
       "      <td>0.0</td>\n",
       "      <td>1.0</td>\n",
       "      <td>bankruptcy</td>\n",
       "      <td>1</td>\n",
       "    </tr>\n",
       "    <tr>\n",
       "      <th>...</th>\n",
       "      <td>...</td>\n",
       "      <td>...</td>\n",
       "      <td>...</td>\n",
       "      <td>...</td>\n",
       "      <td>...</td>\n",
       "      <td>...</td>\n",
       "      <td>...</td>\n",
       "    </tr>\n",
       "    <tr>\n",
       "      <th>245</th>\n",
       "      <td>1.0</td>\n",
       "      <td>1.0</td>\n",
       "      <td>1.0</td>\n",
       "      <td>1.0</td>\n",
       "      <td>1.0</td>\n",
       "      <td>non-bankruptcy</td>\n",
       "      <td>0</td>\n",
       "    </tr>\n",
       "    <tr>\n",
       "      <th>246</th>\n",
       "      <td>1.0</td>\n",
       "      <td>0.5</td>\n",
       "      <td>1.0</td>\n",
       "      <td>1.0</td>\n",
       "      <td>0.0</td>\n",
       "      <td>non-bankruptcy</td>\n",
       "      <td>1</td>\n",
       "    </tr>\n",
       "    <tr>\n",
       "      <th>247</th>\n",
       "      <td>1.0</td>\n",
       "      <td>1.0</td>\n",
       "      <td>0.5</td>\n",
       "      <td>0.5</td>\n",
       "      <td>0.0</td>\n",
       "      <td>non-bankruptcy</td>\n",
       "      <td>0</td>\n",
       "    </tr>\n",
       "    <tr>\n",
       "      <th>248</th>\n",
       "      <td>0.0</td>\n",
       "      <td>0.5</td>\n",
       "      <td>1.0</td>\n",
       "      <td>0.5</td>\n",
       "      <td>0.0</td>\n",
       "      <td>non-bankruptcy</td>\n",
       "      <td>1</td>\n",
       "    </tr>\n",
       "    <tr>\n",
       "      <th>249</th>\n",
       "      <td>0.0</td>\n",
       "      <td>0.5</td>\n",
       "      <td>0.5</td>\n",
       "      <td>1.0</td>\n",
       "      <td>1.0</td>\n",
       "      <td>non-bankruptcy</td>\n",
       "      <td>1</td>\n",
       "    </tr>\n",
       "  </tbody>\n",
       "</table>\n",
       "<p>250 rows × 7 columns</p>\n",
       "</div>"
      ],
      "text/plain": [
       "      management_risk   financial_flexibility   credibility   competitiveness  \\\n",
       "0                 1.0                     0.0           0.0               0.0   \n",
       "1                 1.0                     0.0           0.0               0.0   \n",
       "2                 0.0                     0.0           0.0               0.0   \n",
       "3                 0.0                     0.0           0.5               0.0   \n",
       "4                 1.0                     0.0           0.0               0.0   \n",
       "..                ...                     ...           ...               ...   \n",
       "245               1.0                     1.0           1.0               1.0   \n",
       "246               1.0                     0.5           1.0               1.0   \n",
       "247               1.0                     1.0           0.5               0.5   \n",
       "248               0.0                     0.5           1.0               0.5   \n",
       "249               0.0                     0.5           0.5               1.0   \n",
       "\n",
       "      operating_risk           class industrial_risk  \n",
       "0                0.5      bankruptcy             0.5  \n",
       "1                1.0      bankruptcy               0  \n",
       "2                1.0      bankruptcy               1  \n",
       "3                1.0      bankruptcy             0.5  \n",
       "4                1.0      bankruptcy               1  \n",
       "..               ...             ...             ...  \n",
       "245              1.0  non-bankruptcy               0  \n",
       "246              0.0  non-bankruptcy               1  \n",
       "247              0.0  non-bankruptcy               0  \n",
       "248              0.0  non-bankruptcy               1  \n",
       "249              1.0  non-bankruptcy               1  \n",
       "\n",
       "[250 rows x 7 columns]"
      ]
     },
     "execution_count": 7,
     "metadata": {},
     "output_type": "execute_result"
    }
   ],
   "source": [
    "df2 = df2.rename({'value':'industrial_risk'},axis = 1)\n",
    "df2"
   ]
  },
  {
   "cell_type": "markdown",
   "id": "7bca4440",
   "metadata": {},
   "source": [
    "**Just arranging the col position taking industrial_risk from last to first.**"
   ]
  },
  {
   "cell_type": "code",
   "execution_count": 8,
   "id": "c22380c0",
   "metadata": {},
   "outputs": [],
   "source": [
    "df3 = df2[['industrial_risk',' management_risk',' financial_flexibility',' credibility',' competitiveness',' operating_risk',' class']]     "
   ]
  },
  {
   "cell_type": "code",
   "execution_count": 9,
   "id": "d96cdf22",
   "metadata": {
    "scrolled": true
   },
   "outputs": [
    {
     "data": {
      "text/plain": [
       "Index(['industrial_risk', ' management_risk', ' financial_flexibility',\n",
       "       ' credibility', ' competitiveness', ' operating_risk', ' class'],\n",
       "      dtype='object')"
      ]
     },
     "execution_count": 9,
     "metadata": {},
     "output_type": "execute_result"
    }
   ],
   "source": [
    "df3.columns"
   ]
  },
  {
   "cell_type": "markdown",
   "id": "a1bb8f67",
   "metadata": {},
   "source": [
    "**Checking the information of dataframe**"
   ]
  },
  {
   "cell_type": "code",
   "execution_count": 10,
   "id": "95ec309a",
   "metadata": {},
   "outputs": [
    {
     "name": "stdout",
     "output_type": "stream",
     "text": [
      "<class 'pandas.core.frame.DataFrame'>\n",
      "RangeIndex: 250 entries, 0 to 249\n",
      "Data columns (total 7 columns):\n",
      " #   Column                  Non-Null Count  Dtype  \n",
      "---  ------                  --------------  -----  \n",
      " 0   industrial_risk         250 non-null    object \n",
      " 1    management_risk        250 non-null    float64\n",
      " 2    financial_flexibility  250 non-null    float64\n",
      " 3    credibility            250 non-null    float64\n",
      " 4    competitiveness        250 non-null    float64\n",
      " 5    operating_risk         250 non-null    float64\n",
      " 6    class                  250 non-null    object \n",
      "dtypes: float64(5), object(2)\n",
      "memory usage: 13.8+ KB\n"
     ]
    }
   ],
   "source": [
    "df3.info()"
   ]
  },
  {
   "cell_type": "markdown",
   "id": "9912cde5",
   "metadata": {},
   "source": [
    "**The industrial_risk col it's showing as object convrted into float.**"
   ]
  },
  {
   "cell_type": "code",
   "execution_count": 11,
   "id": "f526c080",
   "metadata": {},
   "outputs": [],
   "source": [
    "df3['industrial_risk'] = df3['industrial_risk'].astype('float')"
   ]
  },
  {
   "cell_type": "code",
   "execution_count": 12,
   "id": "21954b24",
   "metadata": {},
   "outputs": [
    {
     "name": "stdout",
     "output_type": "stream",
     "text": [
      "<class 'pandas.core.frame.DataFrame'>\n",
      "RangeIndex: 250 entries, 0 to 249\n",
      "Data columns (total 7 columns):\n",
      " #   Column                  Non-Null Count  Dtype  \n",
      "---  ------                  --------------  -----  \n",
      " 0   industrial_risk         250 non-null    float64\n",
      " 1    management_risk        250 non-null    float64\n",
      " 2    financial_flexibility  250 non-null    float64\n",
      " 3    credibility            250 non-null    float64\n",
      " 4    competitiveness        250 non-null    float64\n",
      " 5    operating_risk         250 non-null    float64\n",
      " 6    class                  250 non-null    object \n",
      "dtypes: float64(6), object(1)\n",
      "memory usage: 13.8+ KB\n"
     ]
    }
   ],
   "source": [
    "df3.info()"
   ]
  },
  {
   "cell_type": "markdown",
   "id": "e38be64a",
   "metadata": {},
   "source": [
    "**Checking the number of duplicate values.**"
   ]
  },
  {
   "cell_type": "code",
   "execution_count": 13,
   "id": "9a287545",
   "metadata": {},
   "outputs": [
    {
     "data": {
      "text/plain": [
       "147"
      ]
     },
     "execution_count": 13,
     "metadata": {},
     "output_type": "execute_result"
    }
   ],
   "source": [
    "df3.duplicated().sum()"
   ]
  },
  {
   "cell_type": "markdown",
   "id": "f4cbc748",
   "metadata": {},
   "source": [
    "**We have 147 duplicates,droping the duplicates.**"
   ]
  },
  {
   "cell_type": "code",
   "execution_count": 14,
   "id": "79976a10",
   "metadata": {},
   "outputs": [
    {
     "data": {
      "text/html": [
       "<div>\n",
       "<style scoped>\n",
       "    .dataframe tbody tr th:only-of-type {\n",
       "        vertical-align: middle;\n",
       "    }\n",
       "\n",
       "    .dataframe tbody tr th {\n",
       "        vertical-align: top;\n",
       "    }\n",
       "\n",
       "    .dataframe thead th {\n",
       "        text-align: right;\n",
       "    }\n",
       "</style>\n",
       "<table border=\"1\" class=\"dataframe\">\n",
       "  <thead>\n",
       "    <tr style=\"text-align: right;\">\n",
       "      <th></th>\n",
       "      <th>industrial_risk</th>\n",
       "      <th>management_risk</th>\n",
       "      <th>financial_flexibility</th>\n",
       "      <th>credibility</th>\n",
       "      <th>competitiveness</th>\n",
       "      <th>operating_risk</th>\n",
       "      <th>class</th>\n",
       "    </tr>\n",
       "  </thead>\n",
       "  <tbody>\n",
       "    <tr>\n",
       "      <th>0</th>\n",
       "      <td>0.5</td>\n",
       "      <td>1.0</td>\n",
       "      <td>0.0</td>\n",
       "      <td>0.0</td>\n",
       "      <td>0.0</td>\n",
       "      <td>0.5</td>\n",
       "      <td>bankruptcy</td>\n",
       "    </tr>\n",
       "    <tr>\n",
       "      <th>1</th>\n",
       "      <td>0.0</td>\n",
       "      <td>1.0</td>\n",
       "      <td>0.0</td>\n",
       "      <td>0.0</td>\n",
       "      <td>0.0</td>\n",
       "      <td>1.0</td>\n",
       "      <td>bankruptcy</td>\n",
       "    </tr>\n",
       "    <tr>\n",
       "      <th>2</th>\n",
       "      <td>1.0</td>\n",
       "      <td>0.0</td>\n",
       "      <td>0.0</td>\n",
       "      <td>0.0</td>\n",
       "      <td>0.0</td>\n",
       "      <td>1.0</td>\n",
       "      <td>bankruptcy</td>\n",
       "    </tr>\n",
       "    <tr>\n",
       "      <th>3</th>\n",
       "      <td>0.5</td>\n",
       "      <td>0.0</td>\n",
       "      <td>0.0</td>\n",
       "      <td>0.5</td>\n",
       "      <td>0.0</td>\n",
       "      <td>1.0</td>\n",
       "      <td>bankruptcy</td>\n",
       "    </tr>\n",
       "    <tr>\n",
       "      <th>4</th>\n",
       "      <td>1.0</td>\n",
       "      <td>1.0</td>\n",
       "      <td>0.0</td>\n",
       "      <td>0.0</td>\n",
       "      <td>0.0</td>\n",
       "      <td>1.0</td>\n",
       "      <td>bankruptcy</td>\n",
       "    </tr>\n",
       "    <tr>\n",
       "      <th>...</th>\n",
       "      <td>...</td>\n",
       "      <td>...</td>\n",
       "      <td>...</td>\n",
       "      <td>...</td>\n",
       "      <td>...</td>\n",
       "      <td>...</td>\n",
       "      <td>...</td>\n",
       "    </tr>\n",
       "    <tr>\n",
       "      <th>185</th>\n",
       "      <td>0.0</td>\n",
       "      <td>0.5</td>\n",
       "      <td>0.0</td>\n",
       "      <td>0.5</td>\n",
       "      <td>1.0</td>\n",
       "      <td>0.5</td>\n",
       "      <td>non-bankruptcy</td>\n",
       "    </tr>\n",
       "    <tr>\n",
       "      <th>187</th>\n",
       "      <td>0.0</td>\n",
       "      <td>0.5</td>\n",
       "      <td>0.5</td>\n",
       "      <td>0.5</td>\n",
       "      <td>1.0</td>\n",
       "      <td>0.5</td>\n",
       "      <td>non-bankruptcy</td>\n",
       "    </tr>\n",
       "    <tr>\n",
       "      <th>190</th>\n",
       "      <td>0.0</td>\n",
       "      <td>0.5</td>\n",
       "      <td>0.5</td>\n",
       "      <td>0.0</td>\n",
       "      <td>1.0</td>\n",
       "      <td>0.0</td>\n",
       "      <td>non-bankruptcy</td>\n",
       "    </tr>\n",
       "    <tr>\n",
       "      <th>192</th>\n",
       "      <td>0.5</td>\n",
       "      <td>1.0</td>\n",
       "      <td>0.0</td>\n",
       "      <td>0.0</td>\n",
       "      <td>1.0</td>\n",
       "      <td>0.0</td>\n",
       "      <td>non-bankruptcy</td>\n",
       "    </tr>\n",
       "    <tr>\n",
       "      <th>194</th>\n",
       "      <td>0.0</td>\n",
       "      <td>1.0</td>\n",
       "      <td>0.5</td>\n",
       "      <td>0.0</td>\n",
       "      <td>0.5</td>\n",
       "      <td>0.0</td>\n",
       "      <td>non-bankruptcy</td>\n",
       "    </tr>\n",
       "  </tbody>\n",
       "</table>\n",
       "<p>103 rows × 7 columns</p>\n",
       "</div>"
      ],
      "text/plain": [
       "     industrial_risk   management_risk   financial_flexibility   credibility  \\\n",
       "0                0.5               1.0                     0.0           0.0   \n",
       "1                0.0               1.0                     0.0           0.0   \n",
       "2                1.0               0.0                     0.0           0.0   \n",
       "3                0.5               0.0                     0.0           0.5   \n",
       "4                1.0               1.0                     0.0           0.0   \n",
       "..               ...               ...                     ...           ...   \n",
       "185              0.0               0.5                     0.0           0.5   \n",
       "187              0.0               0.5                     0.5           0.5   \n",
       "190              0.0               0.5                     0.5           0.0   \n",
       "192              0.5               1.0                     0.0           0.0   \n",
       "194              0.0               1.0                     0.5           0.0   \n",
       "\n",
       "      competitiveness   operating_risk           class  \n",
       "0                 0.0              0.5      bankruptcy  \n",
       "1                 0.0              1.0      bankruptcy  \n",
       "2                 0.0              1.0      bankruptcy  \n",
       "3                 0.0              1.0      bankruptcy  \n",
       "4                 0.0              1.0      bankruptcy  \n",
       "..                ...              ...             ...  \n",
       "185               1.0              0.5  non-bankruptcy  \n",
       "187               1.0              0.5  non-bankruptcy  \n",
       "190               1.0              0.0  non-bankruptcy  \n",
       "192               1.0              0.0  non-bankruptcy  \n",
       "194               0.5              0.0  non-bankruptcy  \n",
       "\n",
       "[103 rows x 7 columns]"
      ]
     },
     "execution_count": 14,
     "metadata": {},
     "output_type": "execute_result"
    }
   ],
   "source": [
    "df3 = df3.drop_duplicates()\n",
    "df3"
   ]
  },
  {
   "cell_type": "markdown",
   "id": "694ff159",
   "metadata": {},
   "source": [
    "**Checking the null values in dataframe there is no null value.**"
   ]
  },
  {
   "cell_type": "code",
   "execution_count": 15,
   "id": "dc1e8b27",
   "metadata": {
    "scrolled": true
   },
   "outputs": [
    {
     "data": {
      "text/plain": [
       "industrial_risk           0\n",
       " management_risk          0\n",
       " financial_flexibility    0\n",
       " credibility              0\n",
       " competitiveness          0\n",
       " operating_risk           0\n",
       " class                    0\n",
       "dtype: int64"
      ]
     },
     "execution_count": 15,
     "metadata": {},
     "output_type": "execute_result"
    }
   ],
   "source": [
    "df3.isna().sum()"
   ]
  },
  {
   "cell_type": "markdown",
   "id": "f864f95e",
   "metadata": {},
   "source": [
    "**Checking the statistical parameter of dataframe**"
   ]
  },
  {
   "cell_type": "code",
   "execution_count": 16,
   "id": "3807c394",
   "metadata": {},
   "outputs": [
    {
     "data": {
      "text/html": [
       "<div>\n",
       "<style scoped>\n",
       "    .dataframe tbody tr th:only-of-type {\n",
       "        vertical-align: middle;\n",
       "    }\n",
       "\n",
       "    .dataframe tbody tr th {\n",
       "        vertical-align: top;\n",
       "    }\n",
       "\n",
       "    .dataframe thead th {\n",
       "        text-align: right;\n",
       "    }\n",
       "</style>\n",
       "<table border=\"1\" class=\"dataframe\">\n",
       "  <thead>\n",
       "    <tr style=\"text-align: right;\">\n",
       "      <th></th>\n",
       "      <th>count</th>\n",
       "      <th>mean</th>\n",
       "      <th>std</th>\n",
       "      <th>min</th>\n",
       "      <th>25%</th>\n",
       "      <th>50%</th>\n",
       "      <th>75%</th>\n",
       "      <th>max</th>\n",
       "    </tr>\n",
       "  </thead>\n",
       "  <tbody>\n",
       "    <tr>\n",
       "      <th>industrial_risk</th>\n",
       "      <td>103.0</td>\n",
       "      <td>0.485437</td>\n",
       "      <td>0.404971</td>\n",
       "      <td>0.0</td>\n",
       "      <td>0.0</td>\n",
       "      <td>0.5</td>\n",
       "      <td>1.0</td>\n",
       "      <td>1.0</td>\n",
       "    </tr>\n",
       "    <tr>\n",
       "      <th>management_risk</th>\n",
       "      <td>103.0</td>\n",
       "      <td>0.563107</td>\n",
       "      <td>0.412308</td>\n",
       "      <td>0.0</td>\n",
       "      <td>0.0</td>\n",
       "      <td>0.5</td>\n",
       "      <td>1.0</td>\n",
       "      <td>1.0</td>\n",
       "    </tr>\n",
       "    <tr>\n",
       "      <th>financial_flexibility</th>\n",
       "      <td>103.0</td>\n",
       "      <td>0.504854</td>\n",
       "      <td>0.405206</td>\n",
       "      <td>0.0</td>\n",
       "      <td>0.0</td>\n",
       "      <td>0.5</td>\n",
       "      <td>1.0</td>\n",
       "      <td>1.0</td>\n",
       "    </tr>\n",
       "    <tr>\n",
       "      <th>credibility</th>\n",
       "      <td>103.0</td>\n",
       "      <td>0.582524</td>\n",
       "      <td>0.377668</td>\n",
       "      <td>0.0</td>\n",
       "      <td>0.5</td>\n",
       "      <td>0.5</td>\n",
       "      <td>1.0</td>\n",
       "      <td>1.0</td>\n",
       "    </tr>\n",
       "    <tr>\n",
       "      <th>competitiveness</th>\n",
       "      <td>103.0</td>\n",
       "      <td>0.640777</td>\n",
       "      <td>0.410747</td>\n",
       "      <td>0.0</td>\n",
       "      <td>0.5</td>\n",
       "      <td>1.0</td>\n",
       "      <td>1.0</td>\n",
       "      <td>1.0</td>\n",
       "    </tr>\n",
       "    <tr>\n",
       "      <th>operating_risk</th>\n",
       "      <td>103.0</td>\n",
       "      <td>0.514563</td>\n",
       "      <td>0.439788</td>\n",
       "      <td>0.0</td>\n",
       "      <td>0.0</td>\n",
       "      <td>0.5</td>\n",
       "      <td>1.0</td>\n",
       "      <td>1.0</td>\n",
       "    </tr>\n",
       "  </tbody>\n",
       "</table>\n",
       "</div>"
      ],
      "text/plain": [
       "                        count      mean       std  min  25%  50%  75%  max\n",
       "industrial_risk         103.0  0.485437  0.404971  0.0  0.0  0.5  1.0  1.0\n",
       " management_risk        103.0  0.563107  0.412308  0.0  0.0  0.5  1.0  1.0\n",
       " financial_flexibility  103.0  0.504854  0.405206  0.0  0.0  0.5  1.0  1.0\n",
       " credibility            103.0  0.582524  0.377668  0.0  0.5  0.5  1.0  1.0\n",
       " competitiveness        103.0  0.640777  0.410747  0.0  0.5  1.0  1.0  1.0\n",
       " operating_risk         103.0  0.514563  0.439788  0.0  0.0  0.5  1.0  1.0"
      ]
     },
     "execution_count": 16,
     "metadata": {},
     "output_type": "execute_result"
    }
   ],
   "source": [
    "df3.describe().T"
   ]
  },
  {
   "cell_type": "markdown",
   "id": "5a52f54c",
   "metadata": {},
   "source": [
    "**Ploting the box plot to check the outliers in data there is no outliers**"
   ]
  },
  {
   "cell_type": "code",
   "execution_count": 17,
   "id": "d188d830",
   "metadata": {
    "scrolled": true
   },
   "outputs": [
    {
     "data": {
      "image/png": "[encoded data removed]",
      "text/plain": [
       "<Figure size 640x480 with 1 Axes>"
      ]
     },
     "metadata": {},
     "output_type": "display_data"
    }
   ],
   "source": [
    "sns.boxplot(df3['industrial_risk'])\n",
    "sns.boxplot(df3[' management_risk'])\n",
    "sns.boxplot(df3[' financial_flexibility'])\n",
    "sns.boxplot(df3[' credibility'])\n",
    "sns.boxplot(df3[' competitiveness'])\n",
    "sns.boxplot(df3[' operating_risk'])\n",
    "plt.show()\n"
   ]
  },
  {
   "cell_type": "markdown",
   "id": "ea3d4818",
   "metadata": {},
   "source": [
    "**In the data the output col class is in the categorical from coverting it into numerical using LabelEncoder**"
   ]
  },
  {
   "cell_type": "code",
   "execution_count": 18,
   "id": "d364d904",
   "metadata": {},
   "outputs": [
    {
     "data": {
      "text/plain": [
       "array([0, 1])"
      ]
     },
     "execution_count": 18,
     "metadata": {},
     "output_type": "execute_result"
    }
   ],
   "source": [
    "label_encoder = LabelEncoder()\n",
    "df3[' class']= label_encoder.fit_transform(df3[' class'])\n",
    "df3[' class'].unique()"
   ]
  },
  {
   "cell_type": "markdown",
   "id": "c0b86c42",
   "metadata": {},
   "source": [
    "**The above code (LabelEncoder) convert bankruptcy = 0 and non-bankruptcy = 1**"
   ]
  },
  {
   "cell_type": "code",
   "execution_count": 19,
   "id": "6bd24e1a",
   "metadata": {
    "scrolled": true
   },
   "outputs": [
    {
     "data": {
      "text/html": [
       "<div>\n",
       "<style scoped>\n",
       "    .dataframe tbody tr th:only-of-type {\n",
       "        vertical-align: middle;\n",
       "    }\n",
       "\n",
       "    .dataframe tbody tr th {\n",
       "        vertical-align: top;\n",
       "    }\n",
       "\n",
       "    .dataframe thead th {\n",
       "        text-align: right;\n",
       "    }\n",
       "</style>\n",
       "<table border=\"1\" class=\"dataframe\">\n",
       "  <thead>\n",
       "    <tr style=\"text-align: right;\">\n",
       "      <th></th>\n",
       "      <th>industrial_risk</th>\n",
       "      <th>management_risk</th>\n",
       "      <th>financial_flexibility</th>\n",
       "      <th>credibility</th>\n",
       "      <th>competitiveness</th>\n",
       "      <th>operating_risk</th>\n",
       "      <th>class</th>\n",
       "    </tr>\n",
       "  </thead>\n",
       "  <tbody>\n",
       "    <tr>\n",
       "      <th>0</th>\n",
       "      <td>0.5</td>\n",
       "      <td>1.0</td>\n",
       "      <td>0.0</td>\n",
       "      <td>0.0</td>\n",
       "      <td>0.0</td>\n",
       "      <td>0.5</td>\n",
       "      <td>0</td>\n",
       "    </tr>\n",
       "    <tr>\n",
       "      <th>1</th>\n",
       "      <td>0.0</td>\n",
       "      <td>1.0</td>\n",
       "      <td>0.0</td>\n",
       "      <td>0.0</td>\n",
       "      <td>0.0</td>\n",
       "      <td>1.0</td>\n",
       "      <td>0</td>\n",
       "    </tr>\n",
       "    <tr>\n",
       "      <th>2</th>\n",
       "      <td>1.0</td>\n",
       "      <td>0.0</td>\n",
       "      <td>0.0</td>\n",
       "      <td>0.0</td>\n",
       "      <td>0.0</td>\n",
       "      <td>1.0</td>\n",
       "      <td>0</td>\n",
       "    </tr>\n",
       "    <tr>\n",
       "      <th>3</th>\n",
       "      <td>0.5</td>\n",
       "      <td>0.0</td>\n",
       "      <td>0.0</td>\n",
       "      <td>0.5</td>\n",
       "      <td>0.0</td>\n",
       "      <td>1.0</td>\n",
       "      <td>0</td>\n",
       "    </tr>\n",
       "    <tr>\n",
       "      <th>4</th>\n",
       "      <td>1.0</td>\n",
       "      <td>1.0</td>\n",
       "      <td>0.0</td>\n",
       "      <td>0.0</td>\n",
       "      <td>0.0</td>\n",
       "      <td>1.0</td>\n",
       "      <td>0</td>\n",
       "    </tr>\n",
       "    <tr>\n",
       "      <th>...</th>\n",
       "      <td>...</td>\n",
       "      <td>...</td>\n",
       "      <td>...</td>\n",
       "      <td>...</td>\n",
       "      <td>...</td>\n",
       "      <td>...</td>\n",
       "      <td>...</td>\n",
       "    </tr>\n",
       "    <tr>\n",
       "      <th>185</th>\n",
       "      <td>0.0</td>\n",
       "      <td>0.5</td>\n",
       "      <td>0.0</td>\n",
       "      <td>0.5</td>\n",
       "      <td>1.0</td>\n",
       "      <td>0.5</td>\n",
       "      <td>1</td>\n",
       "    </tr>\n",
       "    <tr>\n",
       "      <th>187</th>\n",
       "      <td>0.0</td>\n",
       "      <td>0.5</td>\n",
       "      <td>0.5</td>\n",
       "      <td>0.5</td>\n",
       "      <td>1.0</td>\n",
       "      <td>0.5</td>\n",
       "      <td>1</td>\n",
       "    </tr>\n",
       "    <tr>\n",
       "      <th>190</th>\n",
       "      <td>0.0</td>\n",
       "      <td>0.5</td>\n",
       "      <td>0.5</td>\n",
       "      <td>0.0</td>\n",
       "      <td>1.0</td>\n",
       "      <td>0.0</td>\n",
       "      <td>1</td>\n",
       "    </tr>\n",
       "    <tr>\n",
       "      <th>192</th>\n",
       "      <td>0.5</td>\n",
       "      <td>1.0</td>\n",
       "      <td>0.0</td>\n",
       "      <td>0.0</td>\n",
       "      <td>1.0</td>\n",
       "      <td>0.0</td>\n",
       "      <td>1</td>\n",
       "    </tr>\n",
       "    <tr>\n",
       "      <th>194</th>\n",
       "      <td>0.0</td>\n",
       "      <td>1.0</td>\n",
       "      <td>0.5</td>\n",
       "      <td>0.0</td>\n",
       "      <td>0.5</td>\n",
       "      <td>0.0</td>\n",
       "      <td>1</td>\n",
       "    </tr>\n",
       "  </tbody>\n",
       "</table>\n",
       "<p>103 rows × 7 columns</p>\n",
       "</div>"
      ],
      "text/plain": [
       "     industrial_risk   management_risk   financial_flexibility   credibility  \\\n",
       "0                0.5               1.0                     0.0           0.0   \n",
       "1                0.0               1.0                     0.0           0.0   \n",
       "2                1.0               0.0                     0.0           0.0   \n",
       "3                0.5               0.0                     0.0           0.5   \n",
       "4                1.0               1.0                     0.0           0.0   \n",
       "..               ...               ...                     ...           ...   \n",
       "185              0.0               0.5                     0.0           0.5   \n",
       "187              0.0               0.5                     0.5           0.5   \n",
       "190              0.0               0.5                     0.5           0.0   \n",
       "192              0.5               1.0                     0.0           0.0   \n",
       "194              0.0               1.0                     0.5           0.0   \n",
       "\n",
       "      competitiveness   operating_risk   class  \n",
       "0                 0.0              0.5       0  \n",
       "1                 0.0              1.0       0  \n",
       "2                 0.0              1.0       0  \n",
       "3                 0.0              1.0       0  \n",
       "4                 0.0              1.0       0  \n",
       "..                ...              ...     ...  \n",
       "185               1.0              0.5       1  \n",
       "187               1.0              0.5       1  \n",
       "190               1.0              0.0       1  \n",
       "192               1.0              0.0       1  \n",
       "194               0.5              0.0       1  \n",
       "\n",
       "[103 rows x 7 columns]"
      ]
     },
     "execution_count": 19,
     "metadata": {},
     "output_type": "execute_result"
    }
   ],
   "source": [
    "df3"
   ]
  },
  {
   "cell_type": "markdown",
   "id": "e01f06c6",
   "metadata": {},
   "source": [
    "**Checking the correlation of the col** "
   ]
  },
  {
   "cell_type": "code",
   "execution_count": 20,
   "id": "d36e7d84",
   "metadata": {
    "scrolled": true
   },
   "outputs": [
    {
     "data": {
      "text/html": [
       "<div>\n",
       "<style scoped>\n",
       "    .dataframe tbody tr th:only-of-type {\n",
       "        vertical-align: middle;\n",
       "    }\n",
       "\n",
       "    .dataframe tbody tr th {\n",
       "        vertical-align: top;\n",
       "    }\n",
       "\n",
       "    .dataframe thead th {\n",
       "        text-align: right;\n",
       "    }\n",
       "</style>\n",
       "<table border=\"1\" class=\"dataframe\">\n",
       "  <thead>\n",
       "    <tr style=\"text-align: right;\">\n",
       "      <th></th>\n",
       "      <th>industrial_risk</th>\n",
       "      <th>management_risk</th>\n",
       "      <th>financial_flexibility</th>\n",
       "      <th>credibility</th>\n",
       "      <th>competitiveness</th>\n",
       "      <th>operating_risk</th>\n",
       "      <th>class</th>\n",
       "    </tr>\n",
       "  </thead>\n",
       "  <tbody>\n",
       "    <tr>\n",
       "      <th>industrial_risk</th>\n",
       "      <td>1.000000</td>\n",
       "      <td>0.225742</td>\n",
       "      <td>-0.074246</td>\n",
       "      <td>0.056011</td>\n",
       "      <td>-0.208575</td>\n",
       "      <td>0.152581</td>\n",
       "      <td>-0.217132</td>\n",
       "    </tr>\n",
       "    <tr>\n",
       "      <th>management_risk</th>\n",
       "      <td>0.225742</td>\n",
       "      <td>1.000000</td>\n",
       "      <td>-0.163226</td>\n",
       "      <td>-0.112473</td>\n",
       "      <td>-0.125335</td>\n",
       "      <td>0.089500</td>\n",
       "      <td>-0.188887</td>\n",
       "    </tr>\n",
       "    <tr>\n",
       "      <th>financial_flexibility</th>\n",
       "      <td>-0.074246</td>\n",
       "      <td>-0.163226</td>\n",
       "      <td>1.000000</td>\n",
       "      <td>0.397757</td>\n",
       "      <td>0.525996</td>\n",
       "      <td>-0.000401</td>\n",
       "      <td>0.624573</td>\n",
       "    </tr>\n",
       "    <tr>\n",
       "      <th>credibility</th>\n",
       "      <td>0.056011</td>\n",
       "      <td>-0.112473</td>\n",
       "      <td>0.397757</td>\n",
       "      <td>1.000000</td>\n",
       "      <td>0.524773</td>\n",
       "      <td>-0.110603</td>\n",
       "      <td>0.606350</td>\n",
       "    </tr>\n",
       "    <tr>\n",
       "      <th>competitiveness</th>\n",
       "      <td>-0.208575</td>\n",
       "      <td>-0.125335</td>\n",
       "      <td>0.525996</td>\n",
       "      <td>0.524773</td>\n",
       "      <td>1.000000</td>\n",
       "      <td>-0.052165</td>\n",
       "      <td>0.859809</td>\n",
       "    </tr>\n",
       "    <tr>\n",
       "      <th>operating_risk</th>\n",
       "      <td>0.152581</td>\n",
       "      <td>0.089500</td>\n",
       "      <td>-0.000401</td>\n",
       "      <td>-0.110603</td>\n",
       "      <td>-0.052165</td>\n",
       "      <td>1.000000</td>\n",
       "      <td>-0.136393</td>\n",
       "    </tr>\n",
       "    <tr>\n",
       "      <th>class</th>\n",
       "      <td>-0.217132</td>\n",
       "      <td>-0.188887</td>\n",
       "      <td>0.624573</td>\n",
       "      <td>0.606350</td>\n",
       "      <td>0.859809</td>\n",
       "      <td>-0.136393</td>\n",
       "      <td>1.000000</td>\n",
       "    </tr>\n",
       "  </tbody>\n",
       "</table>\n",
       "</div>"
      ],
      "text/plain": [
       "                        industrial_risk   management_risk  \\\n",
       "industrial_risk                1.000000          0.225742   \n",
       " management_risk               0.225742          1.000000   \n",
       " financial_flexibility        -0.074246         -0.163226   \n",
       " credibility                   0.056011         -0.112473   \n",
       " competitiveness              -0.208575         -0.125335   \n",
       " operating_risk                0.152581          0.089500   \n",
       " class                        -0.217132         -0.188887   \n",
       "\n",
       "                         financial_flexibility   credibility  \\\n",
       "industrial_risk                      -0.074246      0.056011   \n",
       " management_risk                     -0.163226     -0.112473   \n",
       " financial_flexibility                1.000000      0.397757   \n",
       " credibility                          0.397757      1.000000   \n",
       " competitiveness                      0.525996      0.524773   \n",
       " operating_risk                      -0.000401     -0.110603   \n",
       " class                                0.624573      0.606350   \n",
       "\n",
       "                         competitiveness   operating_risk     class  \n",
       "industrial_risk                -0.208575         0.152581 -0.217132  \n",
       " management_risk               -0.125335         0.089500 -0.188887  \n",
       " financial_flexibility          0.525996        -0.000401  0.624573  \n",
       " credibility                    0.524773        -0.110603  0.606350  \n",
       " competitiveness                1.000000        -0.052165  0.859809  \n",
       " operating_risk                -0.052165         1.000000 -0.136393  \n",
       " class                          0.859809        -0.136393  1.000000  "
      ]
     },
     "execution_count": 20,
     "metadata": {},
     "output_type": "execute_result"
    }
   ],
   "source": [
    "df3.corr()"
   ]
  },
  {
   "cell_type": "markdown",
   "id": "718d92f2",
   "metadata": {},
   "source": [
    "**IN this correlation matrix we can see no columns are correlated to each other neither input variables**"
   ]
  },
  {
   "cell_type": "markdown",
   "id": "450ee833",
   "metadata": {},
   "source": [
    "**Univariate Analysis**"
   ]
  },
  {
   "cell_type": "code",
   "execution_count": 21,
   "id": "b574c58e",
   "metadata": {},
   "outputs": [
    {
     "data": {
      "image/png": "[encoded data removed]",
      "text/plain": [
       "<Figure size 640x480 with 1 Axes>"
      ]
     },
     "metadata": {},
     "output_type": "display_data"
    }
   ],
   "source": [
    "df3['industrial_risk'].value_counts().plot(kind = 'pie',autopct=\"%.1f%%\")\n",
    "plt.show()"
   ]
  },
  {
   "cell_type": "code",
   "execution_count": 22,
   "id": "0177b445",
   "metadata": {},
   "outputs": [
    {
     "data": {
      "image/png": "[encoded data removed]",
      "text/plain": [
       "<Figure size 640x480 with 1 Axes>"
      ]
     },
     "metadata": {},
     "output_type": "display_data"
    }
   ],
   "source": [
    "df3[' management_risk'].value_counts().plot(kind = 'pie',autopct=\"%.1f%%\")\n",
    "plt.show()"
   ]
  },
  {
   "cell_type": "code",
   "execution_count": 23,
   "id": "04665e1c",
   "metadata": {},
   "outputs": [
    {
     "data": {
      "image/png": "[encoded data removed]",
      "text/plain": [
       "<Figure size 640x480 with 1 Axes>"
      ]
     },
     "metadata": {},
     "output_type": "display_data"
    }
   ],
   "source": [
    "df3[' financial_flexibility'].value_counts().plot(kind = 'pie',autopct=\"%.1f%%\")\n",
    "plt.show()"
   ]
  },
  {
   "cell_type": "code",
   "execution_count": 24,
   "id": "1fc73e80",
   "metadata": {},
   "outputs": [
    {
     "data": {
      "image/png": "[encoded data removed]",
      "text/plain": [
       "<Figure size 640x480 with 1 Axes>"
      ]
     },
     "metadata": {},
     "output_type": "display_data"
    }
   ],
   "source": [
    "df3[' credibility'].value_counts().plot(kind = 'pie',autopct=\"%.1f%%\")\n",
    "plt.show()"
   ]
  },
  {
   "cell_type": "code",
   "execution_count": 25,
   "id": "922e5053",
   "metadata": {},
   "outputs": [
    {
     "data": {
      "image/png": "[encoded data removed]",
      "text/plain": [
       "<Figure size 640x480 with 1 Axes>"
      ]
     },
     "metadata": {},
     "output_type": "display_data"
    }
   ],
   "source": [
    "df3[' competitiveness'].value_counts().plot(kind = 'pie',autopct=\"%.1f%%\")\n",
    "plt.show()"
   ]
  },
  {
   "cell_type": "code",
   "execution_count": 26,
   "id": "2fd6983c",
   "metadata": {},
   "outputs": [
    {
     "data": {
      "image/png": "[encoded data removed]",
      "text/plain": [
       "<Figure size 640x480 with 1 Axes>"
      ]
     },
     "metadata": {},
     "output_type": "display_data"
    }
   ],
   "source": [
    "df3[' operating_risk'].value_counts().plot(kind = 'pie',autopct=\"%.1f%%\")\n",
    "plt.show()"
   ]
  },
  {
   "cell_type": "code",
   "execution_count": 27,
   "id": "c2bedd72",
   "metadata": {},
   "outputs": [
    {
     "data": {
      "image/png": "[encoded data removed]",
      "text/plain": [
       "<Figure size 640x480 with 1 Axes>"
      ]
     },
     "metadata": {},
     "output_type": "display_data"
    }
   ],
   "source": [
    "df3[' class'].value_counts().plot(kind = 'bar')\n",
    "plt.show()"
   ]
  },
  {
   "cell_type": "markdown",
   "id": "6387744f",
   "metadata": {},
   "source": [
    "**In class, most of the companies are nonbankrupt**"
   ]
  },
  {
   "cell_type": "markdown",
   "id": "0171b670",
   "metadata": {},
   "source": [
    "**Bivariate Analysis**"
   ]
  },
  {
   "cell_type": "code",
   "execution_count": 28,
   "id": "c7ad86fe",
   "metadata": {
    "scrolled": true
   },
   "outputs": [
    {
     "data": {
      "image/png": "[encoded data removed]",
      "text/plain": [
       "<Figure size 640x480 with 2 Axes>"
      ]
     },
     "metadata": {},
     "output_type": "display_data"
    }
   ],
   "source": [
    "sns.heatmap(df3.corr(),annot = True)\n",
    "plt.show()"
   ]
  },
  {
   "cell_type": "code",
   "execution_count": 29,
   "id": "7c63109d",
   "metadata": {},
   "outputs": [
    {
     "data": {
      "text/plain": [
       "Index(['industrial_risk; management_risk; financial_flexibility; credibility; competitiveness; operating_risk; class'], dtype='object')"
      ]
     },
     "execution_count": 29,
     "metadata": {},
     "output_type": "execute_result"
    }
   ],
   "source": [
    "df.columns"
   ]
  },
  {
   "cell_type": "markdown",
   "id": "403e0980",
   "metadata": {},
   "source": [
    "**When the  competitiveness is 0 24 compnay got bankrupt and When the  competitiveness is 0.5 1 compnay got bankrupt and 25 are non-bankrupt and When the  competitiveness is 1 53 compnay are non bankrupt**"
   ]
  },
  {
   "cell_type": "code",
   "execution_count": 30,
   "id": "ff95da51",
   "metadata": {},
   "outputs": [
    {
     "data": {
      "text/plain": [
       "<Axes: xlabel=' class', ylabel=' competitiveness'>"
      ]
     },
     "execution_count": 30,
     "metadata": {},
     "output_type": "execute_result"
    },
    {
     "data": {
      "image/png": "[encoded data removed]",
      "text/plain": [
       "<Figure size 640x480 with 2 Axes>"
      ]
     },
     "metadata": {},
     "output_type": "display_data"
    }
   ],
   "source": [
    "sns.heatmap(pd.crosstab(df3[' competitiveness'],df3[' class']),annot = True)"
   ]
  },
  {
   "cell_type": "markdown",
   "id": "f9a480ac",
   "metadata": {},
   "source": [
    "**When the credibility is 0 18 compnay got bankrupt and 4 are non-bankrupt and When the competitiveness is 0.5 5 compnay got bankrupt and 37 are non-bankrupt and When the competitiveness is 1 3 compnay are bankrupt and 37 are non bankrupt.**"
   ]
  },
  {
   "cell_type": "code",
   "execution_count": 31,
   "id": "16f3c299",
   "metadata": {
    "scrolled": true
   },
   "outputs": [
    {
     "data": {
      "text/plain": [
       "<Axes: xlabel=' class', ylabel=' credibility'>"
      ]
     },
     "execution_count": 31,
     "metadata": {},
     "output_type": "execute_result"
    },
    {
     "data": {
      "image/png": "[encoded data removed]",
      "text/plain": [
       "<Figure size 640x480 with 2 Axes>"
      ]
     },
     "metadata": {},
     "output_type": "display_data"
    }
   ],
   "source": [
    "sns.heatmap(pd.crosstab(df3[' credibility'],df3[' class']),annot = True)"
   ]
  },
  {
   "cell_type": "markdown",
   "id": "f69d8834",
   "metadata": {},
   "source": [
    "**When the financial_flexibility is 0 23 compnay got bankrupt and 10 are non-bankrupt and When the competitiveness is 0.5 1 compnay got bankrupt and 35 are non-bankrupt and When the competitiveness is 1 1 compnay are bankrupt and 35 are non bankrupt.**"
   ]
  },
  {
   "cell_type": "code",
   "execution_count": 32,
   "id": "c27bb0a7",
   "metadata": {},
   "outputs": [
    {
     "data": {
      "text/plain": [
       "<Axes: xlabel=' class', ylabel=' financial_flexibility'>"
      ]
     },
     "execution_count": 32,
     "metadata": {},
     "output_type": "execute_result"
    },
    {
     "data": {
      "image/png": "[encoded data removed]",
      "text/plain": [
       "<Figure size 640x480 with 2 Axes>"
      ]
     },
     "metadata": {},
     "output_type": "display_data"
    }
   ],
   "source": [
    "sns.heatmap(pd.crosstab(df3[' financial_flexibility'],df3[' class']),annot = True)"
   ]
  },
  {
   "cell_type": "markdown",
   "id": "7f3e98bc",
   "metadata": {},
   "source": [
    "# Conclusion\n",
    "### 1)In data all the column are categorical the categories are 0.00,0.5 and 1.00\n",
    "### 2)In the data there 57.2% values are duplicated.\n",
    "### 3)The complete data is ranges bewteen 0-1 so there are no outlier in the data the data is uniform.\n",
    "### 4)In the data the col competitiveness ,credibility and financial_flexibility has strong positive correlatio or too much impact on class\n",
    "### 5)Whenever the risk is high the bankruptcy is low and whenever the risk is low bankruptcy is high."
   ]
  },
  {
   "cell_type": "markdown",
   "id": "c2394258",
   "metadata": {},
   "source": [
    "**Selecting Only those col which have strong positive correlation with claas(Output).**"
   ]
  },
  {
   "cell_type": "code",
   "execution_count": 33,
   "id": "96aea357",
   "metadata": {},
   "outputs": [],
   "source": [
    "df4 = df3[[' financial_flexibility',' competitiveness',' credibility',' class']]"
   ]
  },
  {
   "cell_type": "code",
   "execution_count": 34,
   "id": "4513c4f4",
   "metadata": {},
   "outputs": [
    {
     "data": {
      "text/html": [
       "<div>\n",
       "<style scoped>\n",
       "    .dataframe tbody tr th:only-of-type {\n",
       "        vertical-align: middle;\n",
       "    }\n",
       "\n",
       "    .dataframe tbody tr th {\n",
       "        vertical-align: top;\n",
       "    }\n",
       "\n",
       "    .dataframe thead th {\n",
       "        text-align: right;\n",
       "    }\n",
       "</style>\n",
       "<table border=\"1\" class=\"dataframe\">\n",
       "  <thead>\n",
       "    <tr style=\"text-align: right;\">\n",
       "      <th></th>\n",
       "      <th>financial_flexibility</th>\n",
       "      <th>competitiveness</th>\n",
       "      <th>credibility</th>\n",
       "      <th>class</th>\n",
       "    </tr>\n",
       "  </thead>\n",
       "  <tbody>\n",
       "    <tr>\n",
       "      <th>0</th>\n",
       "      <td>0.0</td>\n",
       "      <td>0.0</td>\n",
       "      <td>0.0</td>\n",
       "      <td>0</td>\n",
       "    </tr>\n",
       "    <tr>\n",
       "      <th>1</th>\n",
       "      <td>0.0</td>\n",
       "      <td>0.0</td>\n",
       "      <td>0.0</td>\n",
       "      <td>0</td>\n",
       "    </tr>\n",
       "    <tr>\n",
       "      <th>2</th>\n",
       "      <td>0.0</td>\n",
       "      <td>0.0</td>\n",
       "      <td>0.0</td>\n",
       "      <td>0</td>\n",
       "    </tr>\n",
       "    <tr>\n",
       "      <th>3</th>\n",
       "      <td>0.0</td>\n",
       "      <td>0.0</td>\n",
       "      <td>0.5</td>\n",
       "      <td>0</td>\n",
       "    </tr>\n",
       "    <tr>\n",
       "      <th>4</th>\n",
       "      <td>0.0</td>\n",
       "      <td>0.0</td>\n",
       "      <td>0.0</td>\n",
       "      <td>0</td>\n",
       "    </tr>\n",
       "    <tr>\n",
       "      <th>...</th>\n",
       "      <td>...</td>\n",
       "      <td>...</td>\n",
       "      <td>...</td>\n",
       "      <td>...</td>\n",
       "    </tr>\n",
       "    <tr>\n",
       "      <th>185</th>\n",
       "      <td>0.0</td>\n",
       "      <td>1.0</td>\n",
       "      <td>0.5</td>\n",
       "      <td>1</td>\n",
       "    </tr>\n",
       "    <tr>\n",
       "      <th>187</th>\n",
       "      <td>0.5</td>\n",
       "      <td>1.0</td>\n",
       "      <td>0.5</td>\n",
       "      <td>1</td>\n",
       "    </tr>\n",
       "    <tr>\n",
       "      <th>190</th>\n",
       "      <td>0.5</td>\n",
       "      <td>1.0</td>\n",
       "      <td>0.0</td>\n",
       "      <td>1</td>\n",
       "    </tr>\n",
       "    <tr>\n",
       "      <th>192</th>\n",
       "      <td>0.0</td>\n",
       "      <td>1.0</td>\n",
       "      <td>0.0</td>\n",
       "      <td>1</td>\n",
       "    </tr>\n",
       "    <tr>\n",
       "      <th>194</th>\n",
       "      <td>0.5</td>\n",
       "      <td>0.5</td>\n",
       "      <td>0.0</td>\n",
       "      <td>1</td>\n",
       "    </tr>\n",
       "  </tbody>\n",
       "</table>\n",
       "<p>103 rows × 4 columns</p>\n",
       "</div>"
      ],
      "text/plain": [
       "      financial_flexibility   competitiveness   credibility   class\n",
       "0                       0.0               0.0           0.0       0\n",
       "1                       0.0               0.0           0.0       0\n",
       "2                       0.0               0.0           0.0       0\n",
       "3                       0.0               0.0           0.5       0\n",
       "4                       0.0               0.0           0.0       0\n",
       "..                      ...               ...           ...     ...\n",
       "185                     0.0               1.0           0.5       1\n",
       "187                     0.5               1.0           0.5       1\n",
       "190                     0.5               1.0           0.0       1\n",
       "192                     0.0               1.0           0.0       1\n",
       "194                     0.5               0.5           0.0       1\n",
       "\n",
       "[103 rows x 4 columns]"
      ]
     },
     "execution_count": 34,
     "metadata": {},
     "output_type": "execute_result"
    }
   ],
   "source": [
    "df4"
   ]
  },
  {
   "cell_type": "markdown",
   "id": "e8ab7965",
   "metadata": {},
   "source": [
    "**Using the Lazypredict to check accuraccy of different algorethem on data**"
   ]
  },
  {
   "cell_type": "code",
   "execution_count": 37,
   "id": "0c4206b8",
   "metadata": {},
   "outputs": [
    {
     "name": "stderr",
     "output_type": "stream",
     "text": [
      "100%|██████████████████████████████████████████████████████████████████████████████████| 29/29 [00:01<00:00, 28.34it/s]"
     ]
    },
    {
     "name": "stdout",
     "output_type": "stream",
     "text": [
      "                               Accuracy  Balanced Accuracy  ROC AUC  F1 Score  \\\n",
      "Model                                                                           \n",
      "NearestCentroid                    1.00               1.00     1.00      1.00   \n",
      "RidgeClassifierCV                  1.00               1.00     1.00      1.00   \n",
      "RidgeClassifier                    1.00               1.00     1.00      1.00   \n",
      "KNeighborsClassifier               1.00               1.00     1.00      1.00   \n",
      "LabelPropagation                   1.00               1.00     1.00      1.00   \n",
      "LabelSpreading                     1.00               1.00     1.00      1.00   \n",
      "LinearDiscriminantAnalysis         1.00               1.00     1.00      1.00   \n",
      "BernoulliNB                        0.95               0.97     0.97      0.95   \n",
      "AdaBoostClassifier                 0.95               0.90     0.90      0.95   \n",
      "XGBClassifier                      0.95               0.90     0.90      0.95   \n",
      "SVC                                0.95               0.90     0.90      0.95   \n",
      "SGDClassifier                      0.95               0.90     0.90      0.95   \n",
      "RandomForestClassifier             0.95               0.90     0.90      0.95   \n",
      "Perceptron                         0.95               0.90     0.90      0.95   \n",
      "PassiveAggressiveClassifier        0.95               0.90     0.90      0.95   \n",
      "LinearSVC                          0.95               0.90     0.90      0.95   \n",
      "LogisticRegression                 0.95               0.90     0.90      0.95   \n",
      "BaggingClassifier                  0.95               0.90     0.90      0.95   \n",
      "GaussianNB                         0.95               0.90     0.90      0.95   \n",
      "ExtraTreesClassifier               0.95               0.90     0.90      0.95   \n",
      "ExtraTreeClassifier                0.95               0.90     0.90      0.95   \n",
      "DecisionTreeClassifier             0.95               0.90     0.90      0.95   \n",
      "CalibratedClassifierCV             0.95               0.90     0.90      0.95   \n",
      "LGBMClassifier                     0.95               0.90     0.90      0.95   \n",
      "QuadraticDiscriminantAnalysis      0.24               0.50     0.50      0.09   \n",
      "DummyClassifier                    0.76               0.50     0.50      0.66   \n",
      "\n",
      "                               Time Taken  \n",
      "Model                                      \n",
      "NearestCentroid                      0.01  \n",
      "RidgeClassifierCV                    0.01  \n",
      "RidgeClassifier                      0.03  \n",
      "KNeighborsClassifier                 0.02  \n",
      "LabelPropagation                     0.01  \n",
      "LabelSpreading                       0.01  \n",
      "LinearDiscriminantAnalysis           0.02  \n",
      "BernoulliNB                          0.01  \n",
      "AdaBoostClassifier                   0.02  \n",
      "XGBClassifier                        0.09  \n",
      "SVC                                  0.01  \n",
      "SGDClassifier                        0.01  \n",
      "RandomForestClassifier               0.31  \n",
      "Perceptron                           0.04  \n",
      "PassiveAggressiveClassifier          0.03  \n",
      "LinearSVC                            0.01  \n",
      "LogisticRegression                   0.02  \n",
      "BaggingClassifier                    0.03  \n",
      "GaussianNB                           0.01  \n",
      "ExtraTreesClassifier                 0.14  \n",
      "ExtraTreeClassifier                  0.01  \n",
      "DecisionTreeClassifier               0.01  \n",
      "CalibratedClassifierCV               0.04  \n",
      "LGBMClassifier                       0.03  \n",
      "QuadraticDiscriminantAnalysis        0.04  \n",
      "DummyClassifier                      0.01  \n"
     ]
    },
    {
     "name": "stderr",
     "output_type": "stream",
     "text": [
      "\n"
     ]
    }
   ],
   "source": [
    "from lazypredict.Supervised import LazyClassifier\n",
    "X_train, X_test, y_train, y_test = train_test_split(df4.drop(columns = [' class']),\n",
    "                                                    df4[' class'],\n",
    "                                                    test_size=0.20,\n",
    "                                                    random_state =42)\n",
    "clf = LazyClassifier(verbose=0,ignore_warnings=True, custom_metric=None)\n",
    "models,predictions = clf.fit(X_train, X_test, y_train, y_test)\n",
    "print(models)"
   ]
  },
  {
   "cell_type": "markdown",
   "id": "73ab945d",
   "metadata": {},
   "source": [
    "**As we have only 107 data points most of algorithames giveing the 100% accuracy this indicats the model is overfit.**"
   ]
  },
  {
   "cell_type": "code",
   "execution_count": 38,
   "id": "edfd570f",
   "metadata": {},
   "outputs": [
    {
     "data": {
      "text/html": [
       "<div>\n",
       "<style scoped>\n",
       "    .dataframe tbody tr th:only-of-type {\n",
       "        vertical-align: middle;\n",
       "    }\n",
       "\n",
       "    .dataframe tbody tr th {\n",
       "        vertical-align: top;\n",
       "    }\n",
       "\n",
       "    .dataframe thead th {\n",
       "        text-align: right;\n",
       "    }\n",
       "</style>\n",
       "<table border=\"1\" class=\"dataframe\">\n",
       "  <thead>\n",
       "    <tr style=\"text-align: right;\">\n",
       "      <th></th>\n",
       "      <th>financial_flexibility</th>\n",
       "      <th>competitiveness</th>\n",
       "      <th>credibility</th>\n",
       "    </tr>\n",
       "  </thead>\n",
       "  <tbody>\n",
       "    <tr>\n",
       "      <th>136</th>\n",
       "      <td>1.00</td>\n",
       "      <td>1.00</td>\n",
       "      <td>1.00</td>\n",
       "    </tr>\n",
       "    <tr>\n",
       "      <th>36</th>\n",
       "      <td>0.00</td>\n",
       "      <td>0.00</td>\n",
       "      <td>1.00</td>\n",
       "    </tr>\n",
       "    <tr>\n",
       "      <th>151</th>\n",
       "      <td>1.00</td>\n",
       "      <td>1.00</td>\n",
       "      <td>0.50</td>\n",
       "    </tr>\n",
       "    <tr>\n",
       "      <th>127</th>\n",
       "      <td>1.00</td>\n",
       "      <td>0.50</td>\n",
       "      <td>0.50</td>\n",
       "    </tr>\n",
       "    <tr>\n",
       "      <th>185</th>\n",
       "      <td>0.00</td>\n",
       "      <td>1.00</td>\n",
       "      <td>0.50</td>\n",
       "    </tr>\n",
       "    <tr>\n",
       "      <th>...</th>\n",
       "      <td>...</td>\n",
       "      <td>...</td>\n",
       "      <td>...</td>\n",
       "    </tr>\n",
       "    <tr>\n",
       "      <th>154</th>\n",
       "      <td>1.00</td>\n",
       "      <td>1.00</td>\n",
       "      <td>1.00</td>\n",
       "    </tr>\n",
       "    <tr>\n",
       "      <th>19</th>\n",
       "      <td>0.00</td>\n",
       "      <td>0.00</td>\n",
       "      <td>0.00</td>\n",
       "    </tr>\n",
       "    <tr>\n",
       "      <th>179</th>\n",
       "      <td>1.00</td>\n",
       "      <td>1.00</td>\n",
       "      <td>0.50</td>\n",
       "    </tr>\n",
       "    <tr>\n",
       "      <th>134</th>\n",
       "      <td>0.50</td>\n",
       "      <td>0.50</td>\n",
       "      <td>0.50</td>\n",
       "    </tr>\n",
       "    <tr>\n",
       "      <th>194</th>\n",
       "      <td>0.50</td>\n",
       "      <td>0.50</td>\n",
       "      <td>0.00</td>\n",
       "    </tr>\n",
       "  </tbody>\n",
       "</table>\n",
       "<p>82 rows × 3 columns</p>\n",
       "</div>"
      ],
      "text/plain": [
       "      financial_flexibility   competitiveness   credibility\n",
       "136                    1.00              1.00          1.00\n",
       "36                     0.00              0.00          1.00\n",
       "151                    1.00              1.00          0.50\n",
       "127                    1.00              0.50          0.50\n",
       "185                    0.00              1.00          0.50\n",
       "..                      ...               ...           ...\n",
       "154                    1.00              1.00          1.00\n",
       "19                     0.00              0.00          0.00\n",
       "179                    1.00              1.00          0.50\n",
       "134                    0.50              0.50          0.50\n",
       "194                    0.50              0.50          0.00\n",
       "\n",
       "[82 rows x 3 columns]"
      ]
     },
     "execution_count": 38,
     "metadata": {},
     "output_type": "execute_result"
    }
   ],
   "source": [
    "X_train"
   ]
  },
  {
   "cell_type": "code",
   "execution_count": 39,
   "id": "bf728db5",
   "metadata": {},
   "outputs": [
    {
     "data": {
      "text/html": [
       "<div>\n",
       "<style scoped>\n",
       "    .dataframe tbody tr th:only-of-type {\n",
       "        vertical-align: middle;\n",
       "    }\n",
       "\n",
       "    .dataframe tbody tr th {\n",
       "        vertical-align: top;\n",
       "    }\n",
       "\n",
       "    .dataframe thead th {\n",
       "        text-align: right;\n",
       "    }\n",
       "</style>\n",
       "<table border=\"1\" class=\"dataframe\">\n",
       "  <thead>\n",
       "    <tr style=\"text-align: right;\">\n",
       "      <th></th>\n",
       "      <th>financial_flexibility</th>\n",
       "      <th>competitiveness</th>\n",
       "      <th>credibility</th>\n",
       "    </tr>\n",
       "  </thead>\n",
       "  <tbody>\n",
       "    <tr>\n",
       "      <th>112</th>\n",
       "      <td>1.00</td>\n",
       "      <td>1.00</td>\n",
       "      <td>1.00</td>\n",
       "    </tr>\n",
       "    <tr>\n",
       "      <th>150</th>\n",
       "      <td>1.00</td>\n",
       "      <td>1.00</td>\n",
       "      <td>0.50</td>\n",
       "    </tr>\n",
       "    <tr>\n",
       "      <th>145</th>\n",
       "      <td>1.00</td>\n",
       "      <td>0.50</td>\n",
       "      <td>0.50</td>\n",
       "    </tr>\n",
       "    <tr>\n",
       "      <th>130</th>\n",
       "      <td>1.00</td>\n",
       "      <td>0.50</td>\n",
       "      <td>1.00</td>\n",
       "    </tr>\n",
       "    <tr>\n",
       "      <th>125</th>\n",
       "      <td>1.00</td>\n",
       "      <td>1.00</td>\n",
       "      <td>0.50</td>\n",
       "    </tr>\n",
       "    <tr>\n",
       "      <th>123</th>\n",
       "      <td>0.50</td>\n",
       "      <td>1.00</td>\n",
       "      <td>0.50</td>\n",
       "    </tr>\n",
       "    <tr>\n",
       "      <th>175</th>\n",
       "      <td>1.00</td>\n",
       "      <td>1.00</td>\n",
       "      <td>0.50</td>\n",
       "    </tr>\n",
       "    <tr>\n",
       "      <th>128</th>\n",
       "      <td>0.50</td>\n",
       "      <td>0.50</td>\n",
       "      <td>1.00</td>\n",
       "    </tr>\n",
       "    <tr>\n",
       "      <th>10</th>\n",
       "      <td>0.50</td>\n",
       "      <td>0.00</td>\n",
       "      <td>0.00</td>\n",
       "    </tr>\n",
       "    <tr>\n",
       "      <th>0</th>\n",
       "      <td>0.00</td>\n",
       "      <td>0.00</td>\n",
       "      <td>0.00</td>\n",
       "    </tr>\n",
       "    <tr>\n",
       "      <th>25</th>\n",
       "      <td>0.00</td>\n",
       "      <td>0.00</td>\n",
       "      <td>0.00</td>\n",
       "    </tr>\n",
       "    <tr>\n",
       "      <th>113</th>\n",
       "      <td>0.50</td>\n",
       "      <td>1.00</td>\n",
       "      <td>1.00</td>\n",
       "    </tr>\n",
       "    <tr>\n",
       "      <th>184</th>\n",
       "      <td>0.50</td>\n",
       "      <td>0.50</td>\n",
       "      <td>1.00</td>\n",
       "    </tr>\n",
       "    <tr>\n",
       "      <th>169</th>\n",
       "      <td>0.50</td>\n",
       "      <td>1.00</td>\n",
       "      <td>1.00</td>\n",
       "    </tr>\n",
       "    <tr>\n",
       "      <th>159</th>\n",
       "      <td>0.50</td>\n",
       "      <td>1.00</td>\n",
       "      <td>0.50</td>\n",
       "    </tr>\n",
       "    <tr>\n",
       "      <th>4</th>\n",
       "      <td>0.00</td>\n",
       "      <td>0.00</td>\n",
       "      <td>0.00</td>\n",
       "    </tr>\n",
       "    <tr>\n",
       "      <th>162</th>\n",
       "      <td>0.00</td>\n",
       "      <td>1.00</td>\n",
       "      <td>1.00</td>\n",
       "    </tr>\n",
       "    <tr>\n",
       "      <th>115</th>\n",
       "      <td>0.50</td>\n",
       "      <td>0.50</td>\n",
       "      <td>1.00</td>\n",
       "    </tr>\n",
       "    <tr>\n",
       "      <th>14</th>\n",
       "      <td>0.00</td>\n",
       "      <td>0.50</td>\n",
       "      <td>0.00</td>\n",
       "    </tr>\n",
       "    <tr>\n",
       "      <th>108</th>\n",
       "      <td>0.50</td>\n",
       "      <td>0.50</td>\n",
       "      <td>0.50</td>\n",
       "    </tr>\n",
       "    <tr>\n",
       "      <th>190</th>\n",
       "      <td>0.50</td>\n",
       "      <td>1.00</td>\n",
       "      <td>0.00</td>\n",
       "    </tr>\n",
       "  </tbody>\n",
       "</table>\n",
       "</div>"
      ],
      "text/plain": [
       "      financial_flexibility   competitiveness   credibility\n",
       "112                    1.00              1.00          1.00\n",
       "150                    1.00              1.00          0.50\n",
       "145                    1.00              0.50          0.50\n",
       "130                    1.00              0.50          1.00\n",
       "125                    1.00              1.00          0.50\n",
       "123                    0.50              1.00          0.50\n",
       "175                    1.00              1.00          0.50\n",
       "128                    0.50              0.50          1.00\n",
       "10                     0.50              0.00          0.00\n",
       "0                      0.00              0.00          0.00\n",
       "25                     0.00              0.00          0.00\n",
       "113                    0.50              1.00          1.00\n",
       "184                    0.50              0.50          1.00\n",
       "169                    0.50              1.00          1.00\n",
       "159                    0.50              1.00          0.50\n",
       "4                      0.00              0.00          0.00\n",
       "162                    0.00              1.00          1.00\n",
       "115                    0.50              0.50          1.00\n",
       "14                     0.00              0.50          0.00\n",
       "108                    0.50              0.50          0.50\n",
       "190                    0.50              1.00          0.00"
      ]
     },
     "execution_count": 39,
     "metadata": {},
     "output_type": "execute_result"
    }
   ],
   "source": [
    "X_test"
   ]
  },
  {
   "cell_type": "markdown",
   "id": "cebb8515",
   "metadata": {},
   "source": [
    "**Creating an object of DecisionTreeClassifier as clf and fit the object so that model will learn the parameter.**"
   ]
  },
  {
   "cell_type": "code",
   "execution_count": 40,
   "id": "dc300989",
   "metadata": {},
   "outputs": [
    {
     "data": {
      "text/html": [
       "<style>#sk-container-id-1 {color: black;background-color: white;}#sk-container-id-1 pre{padding: 0;}#sk-container-id-1 div.sk-toggleable {background-color: white;}#sk-container-id-1 label.sk-toggleable__label {cursor: pointer;display: block;width: 100%;margin-bottom: 0;padding: 0.3em;box-sizing: border-box;text-align: center;}#sk-container-id-1 label.sk-toggleable__label-arrow:before {content: \"▸\";float: left;margin-right: 0.25em;color: #696969;}#sk-container-id-1 label.sk-toggleable__label-arrow:hover:before {color: black;}#sk-container-id-1 div.sk-estimator:hover label.sk-toggleable__label-arrow:before {color: black;}#sk-container-id-1 div.sk-toggleable__content {max-height: 0;max-width: 0;overflow: hidden;text-align: left;background-color: #f0f8ff;}#sk-container-id-1 div.sk-toggleable__content pre {margin: 0.2em;color: black;border-radius: 0.25em;background-color: #f0f8ff;}#sk-container-id-1 input.sk-toggleable__control:checked~div.sk-toggleable__content {max-height: 200px;max-width: 100%;overflow: auto;}#sk-container-id-1 input.sk-toggleable__control:checked~label.sk-toggleable__label-arrow:before {content: \"▾\";}#sk-container-id-1 div.sk-estimator input.sk-toggleable__control:checked~label.sk-toggleable__label {background-color: #d4ebff;}#sk-container-id-1 div.sk-label input.sk-toggleable__control:checked~label.sk-toggleable__label {background-color: #d4ebff;}#sk-container-id-1 input.sk-hidden--visually {border: 0;clip: rect(1px 1px 1px 1px);clip: rect(1px, 1px, 1px, 1px);height: 1px;margin: -1px;overflow: hidden;padding: 0;position: absolute;width: 1px;}#sk-container-id-1 div.sk-estimator {font-family: monospace;background-color: #f0f8ff;border: 1px dotted black;border-radius: 0.25em;box-sizing: border-box;margin-bottom: 0.5em;}#sk-container-id-1 div.sk-estimator:hover {background-color: #d4ebff;}#sk-container-id-1 div.sk-parallel-item::after {content: \"\";width: 100%;border-bottom: 1px solid gray;flex-grow: 1;}#sk-container-id-1 div.sk-label:hover label.sk-toggleable__label {background-color: #d4ebff;}#sk-container-id-1 div.sk-serial::before {content: \"\";position: absolute;border-left: 1px solid gray;box-sizing: border-box;top: 0;bottom: 0;left: 50%;z-index: 0;}#sk-container-id-1 div.sk-serial {display: flex;flex-direction: column;align-items: center;background-color: white;padding-right: 0.2em;padding-left: 0.2em;position: relative;}#sk-container-id-1 div.sk-item {position: relative;z-index: 1;}#sk-container-id-1 div.sk-parallel {display: flex;align-items: stretch;justify-content: center;background-color: white;position: relative;}#sk-container-id-1 div.sk-item::before, #sk-container-id-1 div.sk-parallel-item::before {content: \"\";position: absolute;border-left: 1px solid gray;box-sizing: border-box;top: 0;bottom: 0;left: 50%;z-index: -1;}#sk-container-id-1 div.sk-parallel-item {display: flex;flex-direction: column;z-index: 1;position: relative;background-color: white;}#sk-container-id-1 div.sk-parallel-item:first-child::after {align-self: flex-end;width: 50%;}#sk-container-id-1 div.sk-parallel-item:last-child::after {align-self: flex-start;width: 50%;}#sk-container-id-1 div.sk-parallel-item:only-child::after {width: 0;}#sk-container-id-1 div.sk-dashed-wrapped {border: 1px dashed gray;margin: 0 0.4em 0.5em 0.4em;box-sizing: border-box;padding-bottom: 0.4em;background-color: white;}#sk-container-id-1 div.sk-label label {font-family: monospace;font-weight: bold;display: inline-block;line-height: 1.2em;}#sk-container-id-1 div.sk-label-container {text-align: center;}#sk-container-id-1 div.sk-container {/* jupyter's `normalize.less` sets `[hidden] { display: none; }` but bootstrap.min.css set `[hidden] { display: none !important; }` so we also need the `!important` here to be able to override the default hidden behavior on the sphinx rendered scikit-learn.org. See: https://github.com/scikit-learn/scikit-learn/issues/21755 */display: inline-block !important;position: relative;}#sk-container-id-1 div.sk-text-repr-fallback {display: none;}</style><div id=\"sk-container-id-1\" class=\"sk-top-container\"><div class=\"sk-text-repr-fallback\"><pre>DecisionTreeClassifier()</pre><b>In a Jupyter environment, please rerun this cell to show the HTML representation or trust the notebook. <br />On GitHub, the HTML representation is unable to render, please try loading this page with nbviewer.org.</b></div><div class=\"sk-container\" hidden><div class=\"sk-item\"><div class=\"sk-estimator sk-toggleable\"><input class=\"sk-toggleable__control sk-hidden--visually\" id=\"sk-estimator-id-1\" type=\"checkbox\" checked><label for=\"sk-estimator-id-1\" class=\"sk-toggleable__label sk-toggleable__label-arrow\">DecisionTreeClassifier</label><div class=\"sk-toggleable__content\"><pre>DecisionTreeClassifier()</pre></div></div></div></div></div>"
      ],
      "text/plain": [
       "DecisionTreeClassifier()"
      ]
     },
     "execution_count": 40,
     "metadata": {},
     "output_type": "execute_result"
    }
   ],
   "source": [
    "clf = DecisionTreeClassifier()\n",
    "clf.fit(X_train,y_train)"
   ]
  },
  {
   "cell_type": "markdown",
   "id": "ad3235a5",
   "metadata": {},
   "source": [
    "**Predicting the output of 20% traning data.**"
   ]
  },
  {
   "cell_type": "code",
   "execution_count": 41,
   "id": "3bba2b6f",
   "metadata": {},
   "outputs": [
    {
     "data": {
      "text/plain": [
       "array([1, 1, 1, 1, 1, 1, 1, 1, 0, 0, 0, 1, 1, 1, 1, 0, 1, 1, 1, 1, 1])"
      ]
     },
     "execution_count": 41,
     "metadata": {},
     "output_type": "execute_result"
    }
   ],
   "source": [
    "y_pred = clf.predict(X_test)\n",
    "y_pred"
   ]
  },
  {
   "cell_type": "markdown",
   "id": "000b5b75",
   "metadata": {},
   "source": [
    "**Calculate the accuracy score.**"
   ]
  },
  {
   "cell_type": "code",
   "execution_count": 42,
   "id": "270cb690",
   "metadata": {},
   "outputs": [
    {
     "data": {
      "text/plain": [
       "0.9523809523809523"
      ]
     },
     "execution_count": 42,
     "metadata": {},
     "output_type": "execute_result"
    }
   ],
   "source": [
    "accuracy_score(y_test,y_pred)"
   ]
  },
  {
   "cell_type": "markdown",
   "id": "e858b349",
   "metadata": {},
   "source": [
    "**Creating a custom input.**"
   ]
  },
  {
   "cell_type": "code",
   "execution_count": 43,
   "id": "b9a15ba0",
   "metadata": {},
   "outputs": [],
   "source": [
    "user_input = np.array([0.50,0.50,0.00]).reshape(1,3)"
   ]
  },
  {
   "cell_type": "markdown",
   "id": "b3958787",
   "metadata": {},
   "source": [
    "**Predicting the output on custom data.**"
   ]
  },
  {
   "cell_type": "code",
   "execution_count": 44,
   "id": "8daed25f",
   "metadata": {},
   "outputs": [
    {
     "data": {
      "text/plain": [
       "array([1])"
      ]
     },
     "execution_count": 44,
     "metadata": {},
     "output_type": "execute_result"
    }
   ],
   "source": [
    "clf.predict(user_input)"
   ]
  },
  {
   "cell_type": "markdown",
   "id": "923bce0c",
   "metadata": {},
   "source": [
    "------------------------------\n"
   ]
  }
 ],
 "metadata": {
  "kernelspec": {
   "display_name": "Python 3 (ipykernel)",
   "language": "python",
   "name": "python3"
  },
  "language_info": {
   "codemirror_mode": {
    "name": "ipython",
    "version": 3
   },
   "file_extension": ".py",
   "mimetype": "text/x-python",
   "name": "python",
   "nbconvert_exporter": "python",
   "pygments_lexer": "ipython3",
   "version": "3.10.11"
  }
 },
 "nbformat": 4,
 "nbformat_minor": 5
}
